{
  "nbformat": 4,
  "nbformat_minor": 0,
  "metadata": {
    "colab": {
      "provenance": []
    },
    "kernelspec": {
      "name": "python3",
      "display_name": "Python 3"
    },
    "language_info": {
      "name": "python"
    }
  },
  "cells": [
    {
      "cell_type": "code",
      "source": [
        "from google.colab import files\n",
        "files.upload()\n"
      ],
      "metadata": {
        "collapsed": true,
        "id": "hP_viEe8zit5"
      },
      "execution_count": null,
      "outputs": []
    },
    {
      "cell_type": "code",
      "execution_count": null,
      "metadata": {
        "id": "IA6SGtn6-N8-"
      },
      "outputs": [],
      "source": [
        "import pandas as pd\n",
        "import numpy as np\n",
        "import matplotlib.pyplot as plt\n",
        "import seaborn as sns\n",
        "import nltk\n",
        "plt.style.use('ggplot') #using a built-in type"
      ]
    },
    {
      "cell_type": "code",
      "source": [
        "df = pd.read_excel(\"Reviews.xlsx\")\n",
        "df.head()\n",
        "\n"
      ],
      "metadata": {
        "collapsed": true,
        "id": "wuGNVqqZ-dkn"
      },
      "execution_count": null,
      "outputs": []
    },
    {
      "cell_type": "code",
      "source": [
        "df['Score'].value_counts().sort_index().plot(kind='bar', title='number of star reviews')\n",
        "plt.show()"
      ],
      "metadata": {
        "id": "te-Wf5T41tAd"
      },
      "execution_count": null,
      "outputs": []
    },
    {
      "cell_type": "markdown",
      "source": [
        "Some of the ntlk lib functions !"
      ],
      "metadata": {
        "id": "i1TL-EBoFq_9"
      }
    },
    {
      "cell_type": "code",
      "source": [
        "example = df['Text'][100]\n",
        "print(example)\n",
        "nltk.download('punkt')\n",
        "nltk.download('punkt_tab')\n",
        "tokens = nltk.word_tokenize(example)\n",
        "tokens[:10]\n",
        "\n",
        "\n",
        "nltk.download('averaged_perceptron_tagger_eng')\n",
        "tagged = nltk.pos_tag(tokens)\n",
        "\n",
        "nltk.download('maxent_ne_chunker_tab')\n",
        "nltk.download('words')\n",
        "entities = nltk.chunk.ne_chunk(tagged) #chunking the tokens into grps of the type (determiner + adj (if any) + noun)\n",
        "entities.pprint()"
      ],
      "metadata": {
        "collapsed": true,
        "id": "Wy_atzT02NEC"
      },
      "execution_count": null,
      "outputs": []
    },
    {
      "cell_type": "code",
      "source": [
        "from nltk.sentiment import SentimentIntensityAnalyzer #VADER sentiment analyzer\n",
        "from tqdm.notebook import tqdm #progress bar\n",
        "\n",
        "\n",
        "nltk.download('vader_lexicon')\n",
        "senti = SentimentIntensityAnalyzer()\n",
        "print(senti.polarity_scores('i really like this hello kitty plushie!'))\n",
        "print(example)\n",
        "print(senti.polarity_scores(example))\n",
        "\n",
        "result = {}\n",
        "for i, row in tqdm(df.iterrows(), total = len(df)):\n",
        "  text = row['Text']\n",
        "  myid = row['Id']\n",
        "  result[myid]= senti.polarity_scores(text)\n",
        "\n"
      ],
      "metadata": {
        "id": "MD9Qz3F3Fwm4"
      },
      "execution_count": null,
      "outputs": []
    },
    {
      "cell_type": "code",
      "source": [
        "#to join df and senti data together\n",
        "vaders = pd.DataFrame(result).T #T transposes the dict\n",
        "vaders = vaders.reset_index().rename(columns={'index':'Id'})\n",
        "vaders = vaders.merge(df,how='inner')\n"
      ],
      "metadata": {
        "id": "CWFoHnVcqi-T"
      },
      "execution_count": null,
      "outputs": []
    },
    {
      "cell_type": "code",
      "source": [
        "#visualizing results !! (assuming a higher score means the product is evoking positive emotions and vice versa)\n",
        "graph =sns.barplot(data=vaders,x='Score',y='compound',palette='pastel')\n",
        "graph.set_title(\"Score given by Amazon review vs comp score by senti\")\n",
        "graph.set_ylabel(\"compound score\")\n",
        "graph.set_ylim(-0.5, 1)"
      ],
      "metadata": {
        "id": "Svel40jxu1uQ"
      },
      "execution_count": null,
      "outputs": []
    },
    {
      "cell_type": "markdown",
      "source": [
        "The Roberta Pretrained Model !"
      ],
      "metadata": {
        "id": "2wJIV4tXRpSZ"
      }
    },
    {
      "cell_type": "code",
      "source": [
        "from transformers import AutoTokenizer\n",
        "from transformers import AutoModelForSequenceClassification #used for text sentiment analysis\n",
        "from scipy.special import softmax #Taking a vector and converting it into a prob dist\n",
        "\n",
        "MODEL = f\"cardiffnlp/twitter-roberta-base-sentiment\" #model is fine tuned on twitter data !\n",
        "tokenizer = AutoTokenizer.from_pretrained(MODEL)\n",
        "model = AutoModelForSequenceClassification.from_pretrained(MODEL)\n",
        "\n",
        "\n",
        "def polarity_scores_roberta(example):\n",
        "    encoded_text = tokenizer(example, return_tensors='pt')\n",
        "    output = model(**encoded_text)\n",
        "    scores = output[0][0].detach().numpy()\n",
        "    scores = softmax(scores)\n",
        "    scores_dict = {\n",
        "        'roberta_neg' : scores[0],\n",
        "        'roberta_neu' : scores[1],\n",
        "        'roberta_pos' : scores[2]\n",
        "    }\n",
        "    return scores_dict\n",
        "\n",
        "\n"
      ],
      "metadata": {
        "id": "t2GYjYKBR2I5"
      },
      "execution_count": null,
      "outputs": []
    },
    {
      "cell_type": "code",
      "source": [
        "\n",
        "res = {}\n",
        "for i, row in tqdm(df.iterrows(), total=len(df)):\n",
        "    try:\n",
        "        text = row['Text']\n",
        "        myid = row['Id']\n",
        "        vader_result = senti.polarity_scores(text)\n",
        "        vader_result_rename = {}\n",
        "        for key, value in vader_result.items():\n",
        "            vader_result_rename[f\"vader_{key}\"] = value\n",
        "        roberta_result = polarity_scores_roberta(text)\n",
        "        both = {**vader_result_rename, **roberta_result}\n",
        "        res[myid] = both\n",
        "    except RuntimeError:\n",
        "        print(f'Broke for id {myid}')"
      ],
      "metadata": {
        "id": "--iGAux4xiGC"
      },
      "execution_count": null,
      "outputs": []
    },
    {
      "cell_type": "code",
      "source": [
        "results_df = pd.DataFrame(res).T\n",
        "results_df = results_df.reset_index().rename(columns={'index': 'Id'})\n",
        "results_df = results_df.merge(df, how='left')\n",
        "results_df.head()\n"
      ],
      "metadata": {
        "id": "_TDIGNG7ZzWb"
      },
      "execution_count": null,
      "outputs": []
    },
    {
      "cell_type": "markdown",
      "source": [
        "Comparing Results of the VADER model with the ROBERTA model"
      ],
      "metadata": {
        "id": "CZi8bn52dyNl"
      }
    },
    {
      "cell_type": "code",
      "source": [
        "results_df.columns"
      ],
      "metadata": {
        "id": "MukWUyyZKgrs"
      },
      "execution_count": null,
      "outputs": []
    },
    {
      "cell_type": "code",
      "metadata": {
        "id": "0b1331dd"
      },
      "source": [
        "sns.scatterplot(data=results_df, x='Score', y='roberta_pos')\n",
        "plt.title('Amazon Review Score vs. RoBERTa Positive Sentiment Score')\n",
        "plt.xlabel('Amazon Score')\n",
        "plt.ylabel('RoBERTa Positive Sentiment Score')\n",
        "plt.show()"
      ],
      "execution_count": null,
      "outputs": []
    },
    {
      "cell_type": "code",
      "metadata": {
        "id": "fe0a8131"
      },
      "source": [
        "sns.scatterplot(data=results_df, x='Score', y='vader_compound')\n",
        "plt.title('Amazon Review Score vs. VADER Compound Sentiment Score')\n",
        "plt.xlabel('Amazon Score')\n",
        "plt.ylabel('VADER Compound Sentiment Score')\n",
        "plt.show()"
      ],
      "execution_count": null,
      "outputs": []
    },
    {
      "cell_type": "markdown",
      "source": [
        "Much less outliers in the Roberta Model!"
      ],
      "metadata": {
        "id": "oKulfoRFQyNK"
      }
    },
    {
      "cell_type": "code",
      "source": [],
      "metadata": {
        "id": "PVIDuEPQQ1wF"
      },
      "execution_count": null,
      "outputs": []
    }
  ]
}